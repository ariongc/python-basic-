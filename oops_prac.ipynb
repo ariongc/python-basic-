{
  "cells": [
    {
      "cell_type": "markdown",
      "source": [
        "Let's solve these practical OOP questions in Python. I'll provide code solutions with explanations for each problem.\n",
        "\n",
        "**1. Animal and Dog Classes**"
      ],
      "metadata": {
        "id": "-tiThO_dc1ix"
      }
    },
    {
      "cell_type": "code",
      "source": [
        "class Animal:\n",
        "    def speak(self):\n",
        "        print(\"Generic animal sound\")\n",
        "\n",
        "class Dog(Animal):\n",
        "    def speak(self):\n",
        "        print(\"Bark!\")\n",
        "\n",
        "animal = Animal()\n",
        "animal.speak()  # Output: Generic animal sound\n",
        "\n",
        "dog = Dog()\n",
        "dog.speak()  # Output: Bark!"
      ],
      "outputs": [],
      "execution_count": null,
      "metadata": {
        "id": "RpTsxW4Pc1iz"
      }
    },
    {
      "cell_type": "markdown",
      "source": [
        "**2. Abstract Shape Class**"
      ],
      "metadata": {
        "id": "T35ld8rxc1i1"
      }
    },
    {
      "cell_type": "code",
      "source": [
        "from abc import ABC, abstractmethod\n",
        "\n",
        "class Shape(ABC):\n",
        "    @abstractmethod\n",
        "    def area(self):\n",
        "        pass\n",
        "\n",
        "class Circle(Shape):\n",
        "    def __init__(self, radius):\n",
        "        self.radius = radius\n",
        "\n",
        "    def area(self):\n",
        "        return 3.14159 * self.radius**2\n",
        "\n",
        "class Rectangle(Shape):\n",
        "    def __init__(self, length, width):\n",
        "        self.length = length\n",
        "        self.width = width\n",
        "\n",
        "    def area(self):\n",
        "        return self.length * self.width\n",
        "\n",
        "circle = Circle(5)\n",
        "print(f\"Circle area: {circle.area()}\")  # Output: Circle area: 78.53975\n",
        "\n",
        "rectangle = Rectangle(4, 6)\n",
        "print(f\"Rectangle area: {rectangle.area()}\")  # Output: Rectangle area: 24"
      ],
      "outputs": [],
      "execution_count": null,
      "metadata": {
        "id": "rXNXllz6c1i1"
      }
    },
    {
      "cell_type": "markdown",
      "source": [
        "**3. Multi-Level Inheritance (Vehicle, Car, ElectricCar)**"
      ],
      "metadata": {
        "id": "ZfOUvkylc1i2"
      }
    },
    {
      "cell_type": "code",
      "source": [
        "class Vehicle:\n",
        "    def __init__(self, type):\n",
        "        self.type = type\n",
        "\n",
        "class Car(Vehicle):\n",
        "    def __init__(self, type, model):\n",
        "        super().__init__(type)\n",
        "        self.model = model\n",
        "\n",
        "class ElectricCar(Car):\n",
        "    def __init__(self, type, model, battery):\n",
        "        super().__init__(type, model)\n",
        "        self.battery = battery\n",
        "\n",
        "electric_car = ElectricCar(\"Electric\", \"Tesla Model S\", \"100 kWh\")\n",
        "print(electric_car.type)  # Output: Electric\n",
        "print(electric_car.model)  # Output: Tesla Model S\n",
        "print(electric_car.battery)  # Output: 100 kWh"
      ],
      "outputs": [],
      "execution_count": null,
      "metadata": {
        "id": "bgeYNWfJc1i2"
      }
    },
    {
      "cell_type": "markdown",
      "source": [
        "**4. Polymorphism with Birds**"
      ],
      "metadata": {
        "id": "_y-qiDgTc1i3"
      }
    },
    {
      "cell_type": "code",
      "source": [
        "class Bird:\n",
        "    def fly(self):\n",
        "        print(\"Generic bird flying\")\n",
        "\n",
        "class Sparrow(Bird):\n",
        "    def fly(self):\n",
        "        print(\"Sparrow flying\")\n",
        "\n",
        "class Penguin(Bird):\n",
        "    def fly(self):\n",
        "        print(\"Penguin can't fly\")\n",
        "\n",
        "birds = [Sparrow(), Penguin()]\n",
        "\n",
        "for bird in birds:\n",
        "    bird.fly()\n",
        "# Output:\n",
        "# Sparrow flying\n",
        "# Penguin can't fly"
      ],
      "outputs": [],
      "execution_count": null,
      "metadata": {
        "id": "isTKR4xIc1i3"
      }
    },
    {
      "cell_type": "markdown",
      "source": [
        "**5. Encapsulation with BankAccount**"
      ],
      "metadata": {
        "id": "GMp3OZPac1i4"
      }
    },
    {
      "cell_type": "code",
      "source": [
        "class BankAccount:\n",
        "    def __init__(self, balance):\n",
        "        self.__balance = balance  # Private attribute\n",
        "\n",
        "    def deposit(self, amount):\n",
        "        self.__balance += amount\n",
        "\n",
        "    def withdraw(self, amount):\n",
        "        if amount <= self.__balance:\n",
        "            self.__balance -= amount\n",
        "        else:\n",
        "            print(\"Insufficient funds\")\n",
        "\n",
        "    def check_balance(self):\n",
        "        return self.__balance\n",
        "\n",
        "account = BankAccount(1000)\n",
        "account.deposit(500)\n",
        "account.withdraw(200)\n",
        "print(f\"Balance: {account.check_balance()}\")  # Output: Balance: 1300"
      ],
      "outputs": [],
      "execution_count": null,
      "metadata": {
        "id": "ktWnN2lQc1i4"
      }
    },
    {
      "cell_type": "markdown",
      "source": [
        "**6. Runtime Polymorphism with Instruments**"
      ],
      "metadata": {
        "id": "zIVGJykkc1i5"
      }
    },
    {
      "cell_type": "code",
      "source": [
        "class Instrument:\n",
        "    def play(self):\n",
        "        print(\"Generic instrument sound\")\n",
        "\n",
        "class Guitar(Instrument):\n",
        "    def play(self):\n",
        "        print(\"Guitar playing\")\n",
        "\n",
        "class Piano(Instrument):\n",
        "    def play(self):\n",
        "        print(\"Piano playing\")\n",
        "\n",
        "instruments = [Guitar(), Piano()]\n",
        "\n",
        "for instrument in instruments:\n",
        "    instrument.play()\n",
        "# Output:\n",
        "# Guitar playing\n",
        "# Piano playing"
      ],
      "outputs": [],
      "execution_count": null,
      "metadata": {
        "id": "ZkGJH73Ic1i5"
      }
    },
    {
      "cell_type": "markdown",
      "source": [
        "**7. Class and Static Methods**"
      ],
      "metadata": {
        "id": "smrJJGeec1i5"
      }
    },
    {
      "cell_type": "code",
      "source": [
        "class MathOperations:\n",
        "    @classmethod\n",
        "    def add_numbers(cls, x, y):\n",
        "        return x + y\n",
        "\n",
        "    @staticmethod\n",
        "    def subtract_numbers(x, y):\n",
        "        return x - y\n",
        "\n",
        "result1 = MathOperations.add_numbers(5, 3)\n",
        "print(f\"Sum: {result1}\")  # Output: Sum: 8\n",
        "\n",
        "result2 = MathOperations.subtract_numbers(10, 4)\n",
        "print(f\"Difference: {result2}\")  # Output: Difference: 6"
      ],
      "outputs": [],
      "execution_count": null,
      "metadata": {
        "id": "8zjwAfqRc1i5"
      }
    },
    {
      "cell_type": "markdown",
      "source": [
        "**8. Counting Persons**"
      ],
      "metadata": {
        "id": "BpsfI-Zmc1i5"
      }
    },
    {
      "cell_type": "code",
      "source": [
        "class Person:\n",
        "    count = 0  # Class variable to count persons\n",
        "\n",
        "    def __init__(self, name):\n",
        "        self.name = name\n",
        "        Person.count += 1\n",
        "\n",
        "    @classmethod\n",
        "    def total_persons(cls):\n",
        "        return cls.count\n",
        "\n",
        "person1 = Person(\"Alice\")\n",
        "person2 = Person(\"Bob\")\n",
        "print(f\"Total persons: {Person.total_persons()}\")  # Output: Total persons: 2"
      ],
      "outputs": [],
      "execution_count": null,
      "metadata": {
        "id": "DfcQ2ejzc1i6"
      }
    },
    {
      "cell_type": "markdown",
      "source": [
        "**9. Fraction Class with `__str__` Override**"
      ],
      "metadata": {
        "id": "8y5CsCpCc1i6"
      }
    },
    {
      "cell_type": "code",
      "source": [
        "class Fraction:\n",
        "    def __init__(self, numerator, denominator):\n",
        "        self.numerator = numerator\n",
        "        self.denominator = denominator\n",
        "\n",
        "    def __str__(self):\n",
        "        return f\"{self.numerator}/{self.denominator}\"\n",
        "\n",
        "fraction = Fraction(3, 4)\n",
        "print(fraction)  # Output: 3/4"
      ],
      "outputs": [],
      "execution_count": null,
      "metadata": {
        "id": "iC7jWduRc1i6"
      }
    },
    {
      "cell_type": "markdown",
      "source": [
        "**10. Operator Overloading with Vector**"
      ],
      "metadata": {
        "id": "EypPmJ1Ic1i6"
      }
    },
    {
      "cell_type": "code",
      "source": [
        "class Vector:\n",
        "    def __init__(self, x, y):\n",
        "        self.x = x\n",
        "        self.y = y\n",
        "\n",
        "    def __add__(self, other):\n",
        "        if isinstance(other, Vector):\n",
        "            return Vector(self.x + other.x, self.y + other.y)\n",
        "        else:\n",
        "            raise TypeError(\"Can only add another Vector object\")\n",
        "\n",
        "    def __str__(self):\n",
        "        return f\"({self.x}, {self.y})\"\n",
        "\n",
        "v1 = Vector(2, 3)\n",
        "v2 = Vector(4, 5)\n",
        "v3 = v1 + v2\n",
        "print(v3)  # Output: (6, 8)"
      ],
      "outputs": [],
      "execution_count": null,
      "metadata": {
        "id": "8ePC7ejIc1i6"
      }
    },
    {
      "cell_type": "markdown",
      "source": [
        "**11. Person with `greet()` Method**"
      ],
      "metadata": {
        "id": "D986WSruc1i6"
      }
    },
    {
      "cell_type": "code",
      "source": [
        "class Person:\n",
        "    def __init__(self, name, age):\n",
        "        self.name = name\n",
        "        self.age = age\n",
        "\n",
        "    def greet(self):\n",
        "        print(f\"Hello, my name is {self.name} and I am {self.age} years old.\")\n",
        "\n",
        "person = Person(\"Charlie\", 30)\n",
        "person.greet()  # Output: Hello, my name is Charlie and I am 30 years old."
      ],
      "outputs": [],
      "execution_count": null,
      "metadata": {
        "id": "rtV5Hyl2c1i6"
      }
    },
    {
      "cell_type": "markdown",
      "source": [
        "**12. Student with `average_grade()` Method**"
      ],
      "metadata": {
        "id": "v7YRGSlEc1i7"
      }
    },
    {
      "cell_type": "code",
      "source": [
        "class Student:\n",
        "    def __init__(self, name, grades):\n",
        "        self.name = name\n",
        "        self.grades = grades\n",
        "\n",
        "    def average_grade(self):\n",
        "        if self.grades:\n",
        "            return sum(self.grades) / len(self.grades)\n",
        "        else:\n",
        "            return 0\n",
        "\n",
        "student = Student(\"David\", [85, 92, 78, 90])\n",
        "average = student.average_grade()\n",
        "print(f\"Average grade: {average}\")  # Output: Average grade: 86.25"
      ],
      "outputs": [],
      "execution_count": null,
      "metadata": {
        "id": "Si6IBMq3c1i7"
      }
    },
    {
      "cell_type": "markdown",
      "source": [
        "**13. Rectangle with `set_dimensions()` and `area()`**"
      ],
      "metadata": {
        "id": "XDfZb_M6c1i7"
      }
    },
    {
      "cell_type": "code",
      "source": [
        "class Rectangle:\n",
        "    def __init__(self):\n",
        "        self.length = 0\n",
        "        self.width = 0\n",
        "\n",
        "    def set_dimensions(self, length, width):\n",
        "        self.length = length\n",
        "        self.width = width\n",
        "\n",
        "    def area(self):\n",
        "        return self.length * self.width\n",
        "\n",
        "rectangle = Rectangle()\n",
        "rectangle.set_dimensions(5, 10)\n",
        "print(f\"Area: {rectangle.area()}\")  # Output: Area: 50"
      ],
      "outputs": [],
      "execution_count": null,
      "metadata": {
        "id": "FoKqIZ_bc1i7"
      }
    },
    {
      "cell_type": "markdown",
      "source": [
        "**14. Employee and Manager Salaries**"
      ],
      "metadata": {
        "id": "BkHqOkYPc1i7"
      }
    },
    {
      "cell_type": "code",
      "source": [
        "class Employee:\n",
        "    def __init__(self, hourly_rate):\n",
        "        self.hourly_rate = hourly_rate\n",
        "\n",
        "    def calculate_salary(self, hours_worked):\n",
        "        return self.hourly_rate * hours_worked\n",
        "\n",
        "class Manager(Employee):\n",
        "    def __init__(self, hourly_rate, bonus_percentage):\n",
        "        super().__init__(hourly_rate)\n",
        "        self.bonus_percentage = bonus_percentage\n",
        "\n",
        "    def calculate_salary(self, hours_worked):\n",
        "        base_salary = super().calculate_salary(hours_worked)\n",
        "        bonus = base_salary * (self.bonus_percentage / 100)\n",
        "        return base_salary + bonus\n",
        "\n",
        "employee = Employee(20)\n",
        "salary1 = employee.calculate_salary(40)\n",
        "print(f\"Employee salary: {salary1}\")  # Output: Employee salary: 800\n",
        "\n",
        "manager = Manager(30, 15)\n",
        "salary2 = manager.calculate_salary(40)\n",
        "print(f\"Manager salary: {salary2}\")  # Output: Manager salary: 1380"
      ],
      "outputs": [],
      "execution_count": null,
      "metadata": {
        "id": "j5EymD3jc1i7"
      }
    },
    {
      "cell_type": "markdown",
      "source": [
        "<div class=\"md-recitation\">\n",
        "  Sources\n",
        "  <ol>\n",
        "  <li><a href=\"https://bednyakov.ru/abstraktnyj-klass/\">https://bednyakov.ru/abstraktnyj-klass/</a></li>\n",
        "  <li><a href=\"https://velog.io/@dchlseo/python-intermediate-2\">https://velog.io/@dchlseo/python-intermediate-2</a></li>\n",
        "  <li><a href=\"https://github.com/VarunGoud-R/pwskills\">https://github.com/VarunGoud-R/pwskills</a></li>\n",
        "  <li><a href=\"https://media.licdn.com/dms/document/media/D4D1FAQF0lGBXDRLOfQ/feedshare-document-pdf-analyzed/0/1691990843616?e=1716422400&v=beta&t=V6cyPoIbiKXjEsqiUEhrGMyBlfXF9Ru39K5E0-zrlBg\">https://media.licdn.com/dms/document/media/D4D1FAQF0lGBXDRLOfQ/feedshare-document-pdf-analyzed/0/1691990843616?e=1716422400&v=beta&t=V6cyPoIbiKXjEsqiUEhrGMyBlfXF9Ru39K5E0-zrlBg</a></li>\n",
        "  <li><a href=\"https://mlwhiz.com/blog/2020/11/24/object-oriented-programming/\">https://mlwhiz.com/blog/2020/11/24/object-oriented-programming/</a></li>\n",
        "  <li><a href=\"https://github.com/techsurajsahani/Python-Programming\">https://github.com/techsurajsahani/Python-Programming</a></li>\n",
        "  <li><a href=\"https://stringee.com/vi/blog/post/nap-chong-toan-tu-trong-python\">https://stringee.com/vi/blog/post/nap-chong-toan-tu-trong-python</a></li>\n",
        "  <li><a href=\"https://wenku.csdn.net/answer/60d15e7ff1be499aab3e737518dbd522\">https://wenku.csdn.net/answer/60d15e7ff1be499aab3e737518dbd522</a></li>\n",
        "  <li><a href=\"https://www.collegelib.com/how-to-create-class-and-object-in-python/\">https://www.collegelib.com/how-to-create-class-and-object-in-python/</a></li>\n",
        "  <li><a href=\"https://github.com/prince232002/pw-skills-assignments\">https://github.com/prince232002/pw-skills-assignments</a></li>\n",
        "  </ol>\n",
        "</div>"
      ],
      "metadata": {
        "id": "k0Z3gQ7Qc1i7"
      }
    }
  ],
  "metadata": {
    "colab": {
      "provenance": []
    },
    "kernelspec": {
      "display_name": "Python 3",
      "name": "python3"
    }
  },
  "nbformat": 4,
  "nbformat_minor": 0
}